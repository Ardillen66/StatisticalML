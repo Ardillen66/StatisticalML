{
 "cells": [
  {
   "cell_type": "markdown",
   "metadata": {},
   "source": [
    "# Statistical foundations of Machine Learning"
   ]
  },
  {
   "cell_type": "markdown",
   "metadata": {},
   "source": [
    "# Project: House Prices: Advanced Regression Techniques"
   ]
  },
  {
   "cell_type": "markdown",
   "metadata": {},
   "source": [
    "Author: Arnau Dillen - arnau.dillen@vub.be - 0509766"
   ]
  },
  {
   "cell_type": "markdown",
   "metadata": {},
   "source": [
    "## Abstract"
   ]
  },
  {
   "cell_type": "markdown",
   "metadata": {},
   "source": [
    "In this paper we will consider several techniques to train a model that predicts house prices based on several variables. Before we start working with our data we preprocess it to account for missing values and categorical variables. We then reduce the amount of features with Principal Component Analysis, leaving us with a relatively small subset of principal components. To select an appropriate model for the data we try a linear approach, a decision tree and a neural network model. We select the best model based on the cross validation score. Finally we combine the best variant of each model type into a better performing ensemble model that takes a linear combination of the single model predictions. This model is trained on the provided training data set and consequently used to make predictions for the test data set. "
   ]
  },
  {
   "cell_type": "markdown",
   "metadata": {},
   "source": [
    "## Introduction\n"
   ]
  },
  {
   "cell_type": "markdown",
   "metadata": {},
   "source": [
    "We will consider approaches that allow us to reduce features and select a model for the problem at hand. In the first section we perform Principal Component Analysis (PCA) on our set of features. This results in a new set of uncorrelated principal components that are a linear combination of the original variables. "
   ]
  },
  {
   "cell_type": "markdown",
   "metadata": {},
   "source": [
    "Before we can perform PCA we need to preprocess our data. The code below is responsible for this. We import all required data, libraries and scripts and then start by removing all categorical variables. We then replace missing NA values with the mean value of the data for this feature. As a final step we add the categorical variables as numerical values again by using a one-hot-encoding that turns all possible categorical values into features. The value of those features is then 1 or 0 depending wether the observation belongs to this category or not."
   ]
  },
  {
   "cell_type": "code",
   "execution_count": 128,
   "metadata": {
    "collapsed": false
   },
   "outputs": [
    {
     "name": "stdout",
     "output_type": "stream",
     "text": [
      "[1] \"Number of features after preprocessing and one-hot-encoding:  305\"\n"
     ]
    }
   ],
   "source": [
    "#Import libraries for tested models\n",
    "library(nnet)\n",
    "library(rpart) \n",
    "library(dummies)\n",
    "library(xtable)\n",
    "\n",
    "#Import required scripts\n",
    "source(\"./code/utils.r\")\n",
    "source(\"./code/cross_validation.r\")\n",
    "\n",
    "set.seed(2)\n",
    "options(warn=-1)\n",
    "\n",
    "#Import data  (and set working directory if necessary)\n",
    "#setwd(\"C:/Users/arnau/Documents/School/Projecten 16_17/Statistical_Foundations_ML/StatisticalML\")\n",
    "data.train<-read.csv(\"./data/train.csv\")\n",
    "data.test<-read.csv(\"./data/test.csv\")\n",
    "\n",
    "#Remove categorical variables\n",
    "factor_variables<-which(sapply(data.train[1,],class)==\"factor\")\n",
    "data_preprocessed.train<-data.train[,-factor_variables]\n",
    "\n",
    "#Replace NA values with the variable mean\n",
    "data_preprocessed.train<-data.frame(apply(data_preprocessed.train,2,replace_na_with_mean_value))\n",
    "\n",
    "#Add categorical variables again with one-hot-encoding\n",
    "data_factor.train<-data.train[,factor_variables]\n",
    "\n",
    "data_factor_onehot.train <- dummy.data.frame(data_factor.train)\n",
    "\n",
    "data_preprocessed.train<-cbind(data_preprocessed.train, data_factor_onehot.train)\n",
    "\n",
    "\n",
    "X.train <- data_preprocessed.train[,setdiff(colnames(data_preprocessed.train), \"SalePrice\")]\n",
    "Y.train <- data_preprocessed.train[,\"SalePrice\"]\n",
    "print(paste(\"Number of features after preprocessing and one-hot-encoding: \", ncol(X.train)))"
   ]
  },
  {
   "cell_type": "markdown",
   "metadata": {
    "collapsed": true
   },
   "source": [
    "Preprocessing of the data as such results in 305 features. This is a huge amount of features that is way too large to be able to train a good model on. In the following section we discuss how we perform PCA and use the resulting components to reduce the amount of features."
   ]
  },
  {
   "cell_type": "markdown",
   "metadata": {},
   "source": [
    "In the section after this we detail the method that was used to select an appropriate model. We consider linear, decision tree and neural network models here and decide on the chosen model with a winner-takes-all approach."
   ]
  },
  {
   "cell_type": "markdown",
   "metadata": {},
   "source": [
    "The section after this will detail how we combine the best performing of each type of model into one ensemble model through stacked regression. The final model we get from this is then used to predict the house prices based on the provided test data set. "
   ]
  },
  {
   "cell_type": "markdown",
   "metadata": {},
   "source": [
    "We conclude this paper with a discussion of our results and propose possible improvements that can be made that might produce better results."
   ]
  },
  {
   "cell_type": "markdown",
   "metadata": {},
   "source": [
    "## Feature selection"
   ]
  },
  {
   "cell_type": "markdown",
   "metadata": {},
   "source": [
    "To extract only a subset of the most relevant feature we chose to perform Principal Component Analysis (PCA). This technique consists of transforming our data in a lower dimentional space by creating a new set of axes called Principal Components, which are a linear combination of our data as such:\n",
    "$$Z_1 = a_1 x_1 + ... a_n x_n = a^T x$$\n",
    "Where $Z_1$ is the first principal component that has the greatest variation for a chosen set of values of $a_n$. The $x_n$ represent the original axes.\n"
   ]
  },
  {
   "cell_type": "markdown",
   "metadata": {},
   "source": [
    "The second principal component is orthogonal with the first and represents the set of $a_n$ that result in the second most variance. This goes on for all other principal components until $k<=N$ where k is the number of principal component and N the number of original features. This results in all our principal components being uncorrelated."
   ]
  },
  {
   "cell_type": "markdown",
   "metadata": {},
   "source": [
    "In R we call the prcomp function which performs pca for us and plot the first 10 principal components against the variance they account for. Note that we set the scale variable to true. This will scale all our data to have mean 0 and variance 1, which is essential because of our one-hot-encoded features. First we look at the proportion of variance for each principal component."
   ]
  },
  {
   "cell_type": "code",
   "execution_count": 129,
   "metadata": {
    "collapsed": false,
    "scrolled": false
   },
   "outputs": [
    {
     "name": "stdout",
     "output_type": "stream",
     "text": [
      "[1] \"Proportion of variance of principal components: \"\n"
     ]
    },
    {
     "data": {
      "text/html": [
       "<table>\n",
       "<thead><tr><th></th><th scope=col>PC1</th><th scope=col>PC2</th><th scope=col>PC3</th><th scope=col>PC4</th><th scope=col>PC5</th><th scope=col>PC6</th><th scope=col>PC7</th><th scope=col>PC8</th><th scope=col>PC9</th><th scope=col>PC10</th><th scope=col>...</th><th scope=col>PC296</th><th scope=col>PC297</th><th scope=col>PC298</th><th scope=col>PC299</th><th scope=col>PC300</th><th scope=col>PC301</th><th scope=col>PC302</th><th scope=col>PC303</th><th scope=col>PC304</th><th scope=col>PC305</th></tr></thead>\n",
       "<tbody>\n",
       "\t<tr><th scope=row>Standard deviation</th><td>4.38880     </td><td>2.981634    </td><td>2.73449     </td><td>2.638084    </td><td>2.429539    </td><td>2.297657    </td><td>2.148512    </td><td>2.142019    </td><td>1.94457     </td><td>1.883678    </td><td>...         </td><td>5.055038e-16</td><td>4.253383e-16</td><td>3.801672e-16</td><td>2.910073e-16</td><td>2.910073e-16</td><td>2.910073e-16</td><td>2.510453e-16</td><td>2.288315e-16</td><td>1.964118e-16</td><td>1.148166e-16</td></tr>\n",
       "\t<tr><th scope=row>Proportion of Variance</th><td>0.06315     </td><td>0.029150    </td><td>0.02452     </td><td>0.022820    </td><td>0.019350    </td><td>0.017310    </td><td>0.015130    </td><td>0.015040    </td><td>0.01240     </td><td>0.011630    </td><td>...         </td><td>0.000000e+00</td><td>0.000000e+00</td><td>0.000000e+00</td><td>0.000000e+00</td><td>0.000000e+00</td><td>0.000000e+00</td><td>0.000000e+00</td><td>0.000000e+00</td><td>0.000000e+00</td><td>0.000000e+00</td></tr>\n",
       "\t<tr><th scope=row>Cumulative Proportion</th><td>0.06315     </td><td>0.092300    </td><td>0.11682     </td><td>0.139630    </td><td>0.158990    </td><td>0.176300    </td><td>0.191430    </td><td>0.206470    </td><td>0.21887     </td><td>0.230510    </td><td>...         </td><td>1.000000e+00</td><td>1.000000e+00</td><td>1.000000e+00</td><td>1.000000e+00</td><td>1.000000e+00</td><td>1.000000e+00</td><td>1.000000e+00</td><td>1.000000e+00</td><td>1.000000e+00</td><td>1.000000e+00</td></tr>\n",
       "</tbody>\n",
       "</table>\n"
      ],
      "text/latex": [
       "\\begin{tabular}{r|lllllllllllllllllllllllllllllllllllllllllllllllllllllllllllllllllllllllllllllllllllllllllllllllllllllllllllllllllllllllllllllllllllllllllllllllllllllllllllllllllllllllllllllllllllllllllllllllllllllllllllllllllllllllllllllllllllllllllllllllllllllllllllllllllllllllllllllllllllllllllllllllllllllllllllllllll}\n",
       "  & PC1 & PC2 & PC3 & PC4 & PC5 & PC6 & PC7 & PC8 & PC9 & PC10 & ... & PC296 & PC297 & PC298 & PC299 & PC300 & PC301 & PC302 & PC303 & PC304 & PC305\\\\\n",
       "\\hline\n",
       "\tStandard deviation & 4.38880      & 2.981634     & 2.73449      & 2.638084     & 2.429539     & 2.297657     & 2.148512     & 2.142019     & 1.94457      & 1.883678     & ...          & 5.055038e-16 & 4.253383e-16 & 3.801672e-16 & 2.910073e-16 & 2.910073e-16 & 2.910073e-16 & 2.510453e-16 & 2.288315e-16 & 1.964118e-16 & 1.148166e-16\\\\\n",
       "\tProportion of Variance & 0.06315      & 0.029150     & 0.02452      & 0.022820     & 0.019350     & 0.017310     & 0.015130     & 0.015040     & 0.01240      & 0.011630     & ...          & 0.000000e+00 & 0.000000e+00 & 0.000000e+00 & 0.000000e+00 & 0.000000e+00 & 0.000000e+00 & 0.000000e+00 & 0.000000e+00 & 0.000000e+00 & 0.000000e+00\\\\\n",
       "\tCumulative Proportion & 0.06315      & 0.092300     & 0.11682      & 0.139630     & 0.158990     & 0.176300     & 0.191430     & 0.206470     & 0.21887      & 0.230510     & ...          & 1.000000e+00 & 1.000000e+00 & 1.000000e+00 & 1.000000e+00 & 1.000000e+00 & 1.000000e+00 & 1.000000e+00 & 1.000000e+00 & 1.000000e+00 & 1.000000e+00\\\\\n",
       "\\end{tabular}\n"
      ],
      "text/markdown": [
       "\n",
       "| <!--/--> | PC1 | PC2 | PC3 | PC4 | PC5 | PC6 | PC7 | PC8 | PC9 | PC10 | ... | PC296 | PC297 | PC298 | PC299 | PC300 | PC301 | PC302 | PC303 | PC304 | PC305 | \n",
       "|---|---|---|\n",
       "| Standard deviation | 4.38880      | 2.981634     | 2.73449      | 2.638084     | 2.429539     | 2.297657     | 2.148512     | 2.142019     | 1.94457      | 1.883678     | ...          | 5.055038e-16 | 4.253383e-16 | 3.801672e-16 | 2.910073e-16 | 2.910073e-16 | 2.910073e-16 | 2.510453e-16 | 2.288315e-16 | 1.964118e-16 | 1.148166e-16 | \n",
       "| Proportion of Variance | 0.06315      | 0.029150     | 0.02452      | 0.022820     | 0.019350     | 0.017310     | 0.015130     | 0.015040     | 0.01240      | 0.011630     | ...          | 0.000000e+00 | 0.000000e+00 | 0.000000e+00 | 0.000000e+00 | 0.000000e+00 | 0.000000e+00 | 0.000000e+00 | 0.000000e+00 | 0.000000e+00 | 0.000000e+00 | \n",
       "| Cumulative Proportion | 0.06315      | 0.092300     | 0.11682      | 0.139630     | 0.158990     | 0.176300     | 0.191430     | 0.206470     | 0.21887      | 0.230510     | ...          | 1.000000e+00 | 1.000000e+00 | 1.000000e+00 | 1.000000e+00 | 1.000000e+00 | 1.000000e+00 | 1.000000e+00 | 1.000000e+00 | 1.000000e+00 | 1.000000e+00 | \n",
       "\n",
       "\n"
      ],
      "text/plain": [
       "                       PC1     PC2      PC3     PC4      PC5      PC6      PC7      PC8      PC9     PC10     ... PC296       \n",
       "Standard deviation     4.38880 2.981634 2.73449 2.638084 2.429539 2.297657 2.148512 2.142019 1.94457 1.883678 ... 5.055038e-16\n",
       "Proportion of Variance 0.06315 0.029150 0.02452 0.022820 0.019350 0.017310 0.015130 0.015040 0.01240 0.011630 ... 0.000000e+00\n",
       "Cumulative Proportion  0.06315 0.092300 0.11682 0.139630 0.158990 0.176300 0.191430 0.206470 0.21887 0.230510 ... 1.000000e+00\n",
       "                       PC297        PC298        PC299        PC300        PC301        PC302        PC303        PC304       \n",
       "Standard deviation     4.253383e-16 3.801672e-16 2.910073e-16 2.910073e-16 2.910073e-16 2.510453e-16 2.288315e-16 1.964118e-16\n",
       "Proportion of Variance 0.000000e+00 0.000000e+00 0.000000e+00 0.000000e+00 0.000000e+00 0.000000e+00 0.000000e+00 0.000000e+00\n",
       "Cumulative Proportion  1.000000e+00 1.000000e+00 1.000000e+00 1.000000e+00 1.000000e+00 1.000000e+00 1.000000e+00 1.000000e+00\n",
       "                       PC305       \n",
       "Standard deviation     1.148166e-16\n",
       "Proportion of Variance 0.000000e+00\n",
       "Cumulative Proportion  1.000000e+00"
      ]
     },
     "metadata": {},
     "output_type": "display_data"
    },
    {
     "data": {
      "image/png": "[encoded data removed]",
      "text/plain": [
       "Plot with title \"pca\""
      ]
     },
     "metadata": {},
     "output_type": "display_data"
    }
   ],
   "source": [
    "pca<-prcomp(X.train, retx=T, scale=T)\n",
    "\n",
    "plot(pca, type=\"l\")\n",
    "pca_summary<-summary(pca)\n",
    "print(\"Proportion of variance of principal components: \")\n",
    "xtable(pca_summary$importance)#[\"Proportion of Variance\",])"
   ]
  },
  {
   "cell_type": "markdown",
   "metadata": {},
   "source": [
    "From the table above we can see that the first few principal components only account for part of the variance. We also see from the plot of the variance of the first 10 principal components that the variance quickly diminishes for the first few principal components. We decide to follow the convention of selecting the first few principal components that account for  95% of the variance in our data."
   ]
  },
  {
   "cell_type": "code",
   "execution_count": 130,
   "metadata": {
    "collapsed": false
   },
   "outputs": [
    {
     "name": "stdout",
     "output_type": "stream",
     "text": [
      "[1] \"Remaining components:  184\"\n"
     ]
    }
   ],
   "source": [
    "#Exract index of principal component with cummulative variance larger than 0.95\n",
    "full_variance<-which(0.95 <= pca_summary$importance[\"Cumulative Proportion\",])[1]\n",
    "X_pca <- data.frame(pca$x[,1:full_variance])\n",
    "print(paste(\"Remaining components: \", ncol(X_pca)))"
   ]
  },
  {
   "cell_type": "markdown",
   "metadata": {},
   "source": [
    "This leaves us with the first 184 components remaining. "
   ]
  },
  {
   "cell_type": "markdown",
   "metadata": {},
   "source": [
    "\n",
    "This is still too many features, even more than our original set of features. We will now select our final features by cross-validating a linear regression model for a certain number of components used to describe our data. We will eliminate further componenst that do not result in any significan improvement for the cross-vailidation error or standard deviation.   "
   ]
  },
  {
   "cell_type": "code",
   "execution_count": 131,
   "metadata": {
    "collapsed": false,
    "scrolled": true
   },
   "outputs": [
    {
     "data": {
      "text/html": [
       "<table>\n",
       "<thead><tr><th scope=col>V1</th><th scope=col>feature_crosval</th><th scope=col>stdev_crosval</th></tr></thead>\n",
       "<tbody>\n",
       "\t<tr><td> 1        </td><td>0.2421477 </td><td>0.02625138</td></tr>\n",
       "\t<tr><td> 2        </td><td>0.2365890 </td><td>0.02087784</td></tr>\n",
       "\t<tr><td> 3        </td><td>0.1856436 </td><td>0.02677183</td></tr>\n",
       "\t<tr><td> 4        </td><td>0.1854844 </td><td>0.02657503</td></tr>\n",
       "\t<tr><td> 5        </td><td>0.1878371 </td><td>0.02773665</td></tr>\n",
       "\t<tr><td> 6        </td><td>0.1868716 </td><td>0.02867750</td></tr>\n",
       "\t<tr><td> 7        </td><td>0.1789030 </td><td>0.03071568</td></tr>\n",
       "\t<tr><td> 8        </td><td>0.1826118 </td><td>0.02957058</td></tr>\n",
       "\t<tr><td> 9        </td><td>0.1842157 </td><td>0.02752281</td></tr>\n",
       "\t<tr><td>13        </td><td>0.1697913 </td><td>0.02256872</td></tr>\n",
       "\t<tr><td>14        </td><td>0.1703824 </td><td>0.02179314</td></tr>\n",
       "\t<tr><td>15        </td><td>0.1744328 </td><td>0.02421166</td></tr>\n",
       "\t<tr><td>16        </td><td>0.1734975 </td><td>0.02312237</td></tr>\n",
       "\t<tr><td>17        </td><td>0.1708451 </td><td>0.02321926</td></tr>\n",
       "\t<tr><td>18        </td><td>0.1713470 </td><td>0.02300483</td></tr>\n",
       "\t<tr><td>19        </td><td>0.1725978 </td><td>0.02338875</td></tr>\n",
       "\t<tr><td>20        </td><td>0.1735382 </td><td>0.02384511</td></tr>\n",
       "\t<tr><td>21        </td><td>0.1740666 </td><td>0.02348850</td></tr>\n",
       "\t<tr><td>22        </td><td>0.1735482 </td><td>0.02337530</td></tr>\n",
       "\t<tr><td>23        </td><td>0.1739672 </td><td>0.02412592</td></tr>\n",
       "\t<tr><td>24        </td><td>0.1740332 </td><td>0.02397739</td></tr>\n",
       "\t<tr><td>25        </td><td>0.1695227 </td><td>0.02086415</td></tr>\n",
       "\t<tr><td>26        </td><td>0.1690833 </td><td>0.02146463</td></tr>\n",
       "\t<tr><td>32        </td><td>0.1821230 </td><td>0.02729976</td></tr>\n",
       "\t<tr><td>33        </td><td>0.1731940 </td><td>0.02508235</td></tr>\n",
       "\t<tr><td>34        </td><td>0.1743729 </td><td>0.02515873</td></tr>\n",
       "\t<tr><td>35        </td><td>0.1878824 </td><td>0.04043049</td></tr>\n",
       "\t<tr><td>41        </td><td>0.1861312 </td><td>0.03551302</td></tr>\n",
       "</tbody>\n",
       "</table>\n"
      ],
      "text/latex": [
       "\\begin{tabular}{r|lll}\n",
       " V1 & feature\\_crosval & stdev\\_crosval\\\\\n",
       "\\hline\n",
       "\t  1         & 0.2421477  & 0.02625138\\\\\n",
       "\t  2         & 0.2365890  & 0.02087784\\\\\n",
       "\t  3         & 0.1856436  & 0.02677183\\\\\n",
       "\t  4         & 0.1854844  & 0.02657503\\\\\n",
       "\t  5         & 0.1878371  & 0.02773665\\\\\n",
       "\t  6         & 0.1868716  & 0.02867750\\\\\n",
       "\t  7         & 0.1789030  & 0.03071568\\\\\n",
       "\t  8         & 0.1826118  & 0.02957058\\\\\n",
       "\t  9         & 0.1842157  & 0.02752281\\\\\n",
       "\t 13         & 0.1697913  & 0.02256872\\\\\n",
       "\t 14         & 0.1703824  & 0.02179314\\\\\n",
       "\t 15         & 0.1744328  & 0.02421166\\\\\n",
       "\t 16         & 0.1734975  & 0.02312237\\\\\n",
       "\t 17         & 0.1708451  & 0.02321926\\\\\n",
       "\t 18         & 0.1713470  & 0.02300483\\\\\n",
       "\t 19         & 0.1725978  & 0.02338875\\\\\n",
       "\t 20         & 0.1735382  & 0.02384511\\\\\n",
       "\t 21         & 0.1740666  & 0.02348850\\\\\n",
       "\t 22         & 0.1735482  & 0.02337530\\\\\n",
       "\t 23         & 0.1739672  & 0.02412592\\\\\n",
       "\t 24         & 0.1740332  & 0.02397739\\\\\n",
       "\t 25         & 0.1695227  & 0.02086415\\\\\n",
       "\t 26         & 0.1690833  & 0.02146463\\\\\n",
       "\t 32         & 0.1821230  & 0.02729976\\\\\n",
       "\t 33         & 0.1731940  & 0.02508235\\\\\n",
       "\t 34         & 0.1743729  & 0.02515873\\\\\n",
       "\t 35         & 0.1878824  & 0.04043049\\\\\n",
       "\t 41         & 0.1861312  & 0.03551302\\\\\n",
       "\\end{tabular}\n"
      ],
      "text/markdown": [
       "\n",
       "V1 | feature_crosval | stdev_crosval | \n",
       "|---|---|---|---|---|---|---|---|---|---|---|---|---|---|---|---|---|---|---|---|---|---|---|---|---|---|---|---|\n",
       "|  1         | 0.2421477  | 0.02625138 | \n",
       "|  2         | 0.2365890  | 0.02087784 | \n",
       "|  3         | 0.1856436  | 0.02677183 | \n",
       "|  4         | 0.1854844  | 0.02657503 | \n",
       "|  5         | 0.1878371  | 0.02773665 | \n",
       "|  6         | 0.1868716  | 0.02867750 | \n",
       "|  7         | 0.1789030  | 0.03071568 | \n",
       "|  8         | 0.1826118  | 0.02957058 | \n",
       "|  9         | 0.1842157  | 0.02752281 | \n",
       "| 13         | 0.1697913  | 0.02256872 | \n",
       "| 14         | 0.1703824  | 0.02179314 | \n",
       "| 15         | 0.1744328  | 0.02421166 | \n",
       "| 16         | 0.1734975  | 0.02312237 | \n",
       "| 17         | 0.1708451  | 0.02321926 | \n",
       "| 18         | 0.1713470  | 0.02300483 | \n",
       "| 19         | 0.1725978  | 0.02338875 | \n",
       "| 20         | 0.1735382  | 0.02384511 | \n",
       "| 21         | 0.1740666  | 0.02348850 | \n",
       "| 22         | 0.1735482  | 0.02337530 | \n",
       "| 23         | 0.1739672  | 0.02412592 | \n",
       "| 24         | 0.1740332  | 0.02397739 | \n",
       "| 25         | 0.1695227  | 0.02086415 | \n",
       "| 26         | 0.1690833  | 0.02146463 | \n",
       "| 32         | 0.1821230  | 0.02729976 | \n",
       "| 33         | 0.1731940  | 0.02508235 | \n",
       "| 34         | 0.1743729  | 0.02515873 | \n",
       "| 35         | 0.1878824  | 0.04043049 | \n",
       "| 41         | 0.1861312  | 0.03551302 | \n",
       "\n",
       "\n"
      ],
      "text/plain": [
       "   V1 feature_crosval stdev_crosval\n",
       "1   1 0.2421477       0.02625138   \n",
       "2   2 0.2365890       0.02087784   \n",
       "3   3 0.1856436       0.02677183   \n",
       "4   4 0.1854844       0.02657503   \n",
       "5   5 0.1878371       0.02773665   \n",
       "6   6 0.1868716       0.02867750   \n",
       "7   7 0.1789030       0.03071568   \n",
       "8   8 0.1826118       0.02957058   \n",
       "9   9 0.1842157       0.02752281   \n",
       "10 13 0.1697913       0.02256872   \n",
       "11 14 0.1703824       0.02179314   \n",
       "12 15 0.1744328       0.02421166   \n",
       "13 16 0.1734975       0.02312237   \n",
       "14 17 0.1708451       0.02321926   \n",
       "15 18 0.1713470       0.02300483   \n",
       "16 19 0.1725978       0.02338875   \n",
       "17 20 0.1735382       0.02384511   \n",
       "18 21 0.1740666       0.02348850   \n",
       "19 22 0.1735482       0.02337530   \n",
       "20 23 0.1739672       0.02412592   \n",
       "21 24 0.1740332       0.02397739   \n",
       "22 25 0.1695227       0.02086415   \n",
       "23 26 0.1690833       0.02146463   \n",
       "24 32 0.1821230       0.02729976   \n",
       "25 33 0.1731940       0.02508235   \n",
       "26 34 0.1743729       0.02515873   \n",
       "27 35 0.1878824       0.04043049   \n",
       "28 41 0.1861312       0.03551302   "
      ]
     },
     "metadata": {},
     "output_type": "display_data"
    }
   ],
   "source": [
    "\n",
    "\n",
    "feature_crosval <- NULL #\n",
    "stdev_crosval <-NULL\n",
    "\n",
    "for (n_features in 2:ncol(X_pca)){\n",
    "    X_sel <- X_pca[,1:n_features,drop=F]\n",
    "    cv_err <- crossval_lm(X_sel, Y.train)\n",
    "    feature_crosval <- c(feature_crosval, mean(cv_err))\n",
    "    stdev_crosval <- c(stdev_crosval, sd(cv_err))\n",
    "}\n",
    "pca_crossval<-cbind(1:length(feature_crosval), feature_crosval,stdev_crosval)\n",
    "xtable(na.omit(pca_crossval), label=\"Cross validation for number of features\", auto=T)\n",
    "\n"
   ]
  },
  {
   "cell_type": "markdown",
   "metadata": {},
   "source": [
    "In this table we see that the cross validating score improves at first when adding more principal components. But when using the first 10, 11 and 12 principal component we get Nan and NA values for our CV error and Standard deviation respectively. This is due to the linear model producing negative estimates resulting in a NaN value when taking the logarith of the prediction for cross validation. Because of this we also can not calculate the standard deviation. All table rows containing NA values have been removed from the above table for clarity's sake. Here we see that using the 25 first principal components results in both the lowes CV error and lowest standard deviation of the error. Based on these results we decide to to use the 25 first principal components as features for our further expeiments."
   ]
  },
  {
   "cell_type": "code",
   "execution_count": 132,
   "metadata": {
    "collapsed": false,
    "scrolled": true
   },
   "outputs": [],
   "source": [
    "X.train <- X_pca[,1:25,drop=F]"
   ]
  },
  {
   "cell_type": "markdown",
   "metadata": {},
   "source": [
    "## Model selection"
   ]
  },
  {
   "cell_type": "markdown",
   "metadata": {},
   "source": [
    "For our model selection we test three different types of models and perform 10-fold cross-validation to evaluate the results."
   ]
  },
  {
   "cell_type": "markdown",
   "metadata": {},
   "source": [
    "First we try a polynomial model that consists of a linear combination of linear $\\textit{lm}$ models. We tune this model with the degree $\\textbf{m}$ of the polynomial. This approach was chosen for it's simplicity and because it already performed fairly well for the cross-validation of our peincipal components."
   ]
  },
  {
   "cell_type": "markdown",
   "metadata": {},
   "source": [
    "The next model we test is a decision tree using the $\\textbf{rpart}$ package. After a tree is fitted it is pruned and cross validation results are computed for the two generated trees. This is an entierly different approach than a linear model. We chose it for this reason and to compare it's performance for principal components."
   ]
  },
  {
   "cell_type": "markdown",
   "metadata": {},
   "source": [
    "Finally we will try a neural network model with the $\\textit{nnet}$ library. We try out different breadths of the hidden layer and select the best performing fit. We chose this model because it is currently one of the most popular ML approaches and was able to perform well on many regression and classification task. It also lets us compare a more complex model with the simple linear regression one."
   ]
  },
  {
   "cell_type": "markdown",
   "metadata": {},
   "source": [
    "Cross validation is used as an estimator of the MISE prediction error in all cases. "
   ]
  },
  {
   "cell_type": "markdown",
   "metadata": {},
   "source": [
    "We start by fitting a linear model with increasing polynomial degree."
   ]
  },
  {
   "cell_type": "code",
   "execution_count": 164,
   "metadata": {
    "collapsed": false
   },
   "outputs": [
    {
     "data": {
      "text/html": [
       "<table>\n",
       "<thead><tr><th scope=col>1</th><th scope=col>2</th><th scope=col>3</th><th scope=col>4</th><th scope=col>5</th><th scope=col>6</th><th scope=col>7</th><th scope=col>8</th><th scope=col>9</th><th scope=col>10</th><th scope=col>11</th><th scope=col>12</th><th scope=col>13</th><th scope=col>14</th><th scope=col>15</th><th scope=col>16</th></tr></thead>\n",
       "<tbody>\n",
       "\t<tr><td>Order             </td><td>1                 </td><td>2                 </td><td>3                 </td><td>4                 </td><td>5                 </td><td>6                 </td><td>7                 </td><td>8                 </td><td>9                 </td><td>10                </td><td>11                </td><td>12                </td><td>13                </td><td>14                </td><td>15                </td></tr>\n",
       "\t<tr><td>CV Error          </td><td>0.17403315937749  </td><td>NaN               </td><td>NaN               </td><td>NaN               </td><td>NaN               </td><td>NaN               </td><td>NaN               </td><td>NaN               </td><td>NaN               </td><td>NaN               </td><td>NaN               </td><td>NaN               </td><td>NaN               </td><td>NaN               </td><td>NaN               </td></tr>\n",
       "\t<tr><td>Std Dev           </td><td>0.0239773916437412</td><td>NA                </td><td>NA                </td><td>NA                </td><td>NA                </td><td>NA                </td><td>NA                </td><td>NA                </td><td>NA                </td><td>NA                </td><td>NA                </td><td>NA                </td><td>NA                </td><td>NA                </td><td>NA                </td></tr>\n",
       "</tbody>\n",
       "</table>\n"
      ],
      "text/latex": [
       "\\begin{tabular}{r|llllllllllllllll}\n",
       " 1 & 2 & 3 & 4 & 5 & 6 & 7 & 8 & 9 & 10 & 11 & 12 & 13 & 14 & 15 & 16\\\\\n",
       "\\hline\n",
       "\t Order              & 1                  & 2                  & 3                  & 4                  & 5                  & 6                  & 7                  & 8                  & 9                  & 10                 & 11                 & 12                 & 13                 & 14                 & 15                \\\\\n",
       "\t CV Error           & 0.17403315937749   & NaN                & NaN                & NaN                & NaN                & NaN                & NaN                & NaN                & NaN                & NaN                & NaN                & NaN                & NaN                & NaN                & NaN               \\\\\n",
       "\t Std Dev            & 0.0239773916437412 & NA                 & NA                 & NA                 & NA                 & NA                 & NA                 & NA                 & NA                 & NA                 & NA                 & NA                 & NA                 & NA                 & NA                \\\\\n",
       "\\end{tabular}\n"
      ],
      "text/markdown": [
       "\n",
       "1 | 2 | 3 | 4 | 5 | 6 | 7 | 8 | 9 | 10 | 11 | 12 | 13 | 14 | 15 | 16 | \n",
       "|---|---|---|\n",
       "| Order              | 1                  | 2                  | 3                  | 4                  | 5                  | 6                  | 7                  | 8                  | 9                  | 10                 | 11                 | 12                 | 13                 | 14                 | 15                 | \n",
       "| CV Error           | 0.17403315937749   | NaN                | NaN                | NaN                | NaN                | NaN                | NaN                | NaN                | NaN                | NaN                | NaN                | NaN                | NaN                | NaN                | NaN                | \n",
       "| Std Dev            | 0.0239773916437412 | NA                 | NA                 | NA                 | NA                 | NA                 | NA                 | NA                 | NA                 | NA                 | NA                 | NA                 | NA                 | NA                 | NA                 | \n",
       "\n",
       "\n"
      ],
      "text/plain": [
       "  1        2                  3   4   5   6   7   8   9   10  11  12  13  14  15  16 \n",
       "1 Order    1                  2   3   4   5   6   7   8   9   10  11  12  13  14  15 \n",
       "2 CV Error 0.17403315937749   NaN NaN NaN NaN NaN NaN NaN NaN NaN NaN NaN NaN NaN NaN\n",
       "3 Std Dev  0.0239773916437412 NA  NA  NA  NA  NA  NA  NA  NA  NA  NA  NA  NA  NA  NA "
      ]
     },
     "metadata": {},
     "output_type": "display_data"
    }
   ],
   "source": [
    "#Models: Linear, Tree, NeuralNetwork\n",
    "crossval_folds<-10 #10-fold cross-validation\n",
    "\n",
    "#Linear models\n",
    "max_pol_deg<-15\n",
    "\n",
    "lm_es<-matrix(nrow=3, ncol=max_pol_deg+1)\n",
    "\n",
    "lm_es[1,1]<-\"Order\"\n",
    "lm_es[2,1]<-\"CV Error\"\n",
    "lm_es[3,1]<-\"Std Dev\"\n",
    "for (deg in 1:max_pol_deg){\n",
    "    cv_error<-crossval_pol(X.train, Y.train, n_folds=crossval_folds, degree=deg)\n",
    "    lm_es[1,deg+1]<-deg\n",
    "    lm_es[2,deg+1]<-mean(cv_error)\n",
    "    lm_es[3,deg+1]<-sd(cv_error)\n",
    "}\n",
    "xtable(lm_es)"
   ]
  },
  {
   "cell_type": "markdown",
   "metadata": {},
   "source": [
    "Looking at the resulting table it seems that only a first order polynomial can be used when training a linear model on our principal components. All higher order polynomials result in NaN CV error due to them predicting negative house prices. We can clearly see that a polynomial model is not reliable in this situation."
   ]
  },
  {
   "cell_type": "markdown",
   "metadata": {},
   "source": [
    "We now plot the resulting linear model trained on the whole training data set."
   ]
  },
  {
   "cell_type": "code",
   "execution_count": 193,
   "metadata": {
    "collapsed": false
   },
   "outputs": [
    {
     "data": {
      "image/png": "[encoded data removed]",
      "text/plain": [
       "Plot with title \"\""
      ]
     },
     "metadata": {},
     "output_type": "display_data"
    }
   ],
   "source": [
    "lm_data <- cbind(X.train,sale_price=Y.train)\n",
    "\n",
    "lm_model<-lm(sale_price~., lm_data)\n",
    "par(mfrow=c(2,2))\n",
    "plot(lm_model)"
   ]
  },
  {
   "cell_type": "markdown",
   "metadata": {},
   "source": [
    "The linear model seems to fit the transformed data relatively well. There seem to be outliers that do not fit very well, but most residuals are within the accepted limit and seem almost perfectly normally distributed according to the QQ-plot."
   ]
  },
  {
   "cell_type": "markdown",
   "metadata": {},
   "source": [
    "We now try to fit a decision tree model on our transformed data."
   ]
  },
  {
   "cell_type": "code",
   "execution_count": 103,
   "metadata": {
    "collapsed": false
   },
   "outputs": [
    {
     "data": {
      "text/html": [
       "<table>\n",
       "<thead><tr><th scope=col>1</th><th scope=col>2</th><th scope=col>3</th></tr></thead>\n",
       "<tbody>\n",
       "\t<tr><td>                  </td><td>CV Error          </td><td>Std Dev           </td></tr>\n",
       "\t<tr><td>Original fit      </td><td>0.207057446493887 </td><td>0.0175938015678106</td></tr>\n",
       "\t<tr><td>Pruned            </td><td>0.207793501721271 </td><td>0.0194306924742303</td></tr>\n",
       "</tbody>\n",
       "</table>\n"
      ],
      "text/latex": [
       "\\begin{tabular}{r|lll}\n",
       " 1 & 2 & 3\\\\\n",
       "\\hline\n",
       "\t                    & CV Error           & Std Dev           \\\\\n",
       "\t Original fit       & 0.207057446493887  & 0.0175938015678106\\\\\n",
       "\t Pruned             & 0.207793501721271  & 0.0194306924742303\\\\\n",
       "\\end{tabular}\n"
      ],
      "text/markdown": [
       "\n",
       "1 | 2 | 3 | \n",
       "|---|---|---|\n",
       "|                    | CV Error           | Std Dev            | \n",
       "| Original fit       | 0.207057446493887  | 0.0175938015678106 | \n",
       "| Pruned             | 0.207793501721271  | 0.0194306924742303 | \n",
       "\n",
       "\n"
      ],
      "text/plain": [
       "  1            2                 3                 \n",
       "1              CV Error          Std Dev           \n",
       "2 Original fit 0.207057446493887 0.0175938015678106\n",
       "3 Pruned       0.207793501721271 0.0194306924742303"
      ]
     },
     "metadata": {},
     "output_type": "display_data"
    }
   ],
   "source": [
    "#Decision tree\n",
    "tree_es<-matrix(nrow=3, ncol=3)\n",
    "\n",
    "cv_tree<-crossval_tree(X.train, Y.train, n_folds=crossval_folds)\n",
    "\n",
    "tree_es[1,1]<-\" \"\n",
    "tree_es[2,1]<-\"Original fit\"\n",
    "tree_es[3,1]<-\"Pruned\"\n",
    "tree_es[1,2]<-\"CV Error\"\n",
    "tree_es[1,3]<-\"Std Dev\"\n",
    "tree_es[2,2]<-mean(cv_tree[1,])\n",
    "tree_es[2,3]<-sd(cv_tree[1,])\n",
    "tree_es[3,2]<-mean(cv_tree[2,])\n",
    "tree_es[3,3]<-sd(cv_tree[2,])\n",
    "xtable(tree_es)"
   ]
  },
  {
   "cell_type": "markdown",
   "metadata": {},
   "source": [
    "We can see that pruning actually makes our predictions slightly worse. We will not prune the tree and use the following tree that is fitted to our training data."
   ]
  },
  {
   "cell_type": "code",
   "execution_count": 104,
   "metadata": {
    "collapsed": false
   },
   "outputs": [
    {
     "data": {
      "image/png": "[encoded data removed]",
      "text/plain": [
       "Plot with title \"Regression Tree for House price \""
      ]
     },
     "metadata": {},
     "output_type": "display_data"
    }
   ],
   "source": [
    "ds<-cbind(X.train, sale_price=Y.train)\n",
    "#Fit tree\n",
    "tree_fit<-rpart(sale_price~., method=\"anova\", data=ds)\n",
    "plot(tree_fit, uniform=TRUE, main=\"Regression Tree for House price \")\n",
    "text(tree_fit, use.n=TRUE, all=TRUE, cex=.8)"
   ]
  },
  {
   "cell_type": "markdown",
   "metadata": {},
   "source": [
    "Finally we try to fit our neural network with different amounts of hidden nodes in the hidden layer."
   ]
  },
  {
   "cell_type": "code",
   "execution_count": 105,
   "metadata": {
    "collapsed": true
   },
   "outputs": [],
   "source": [
    "#Neural network\n",
    "max_nodes<-30\n",
    "\n",
    "nn_es<-matrix(nrow=2, ncol=max_nodes)\n",
    "\n",
    "for (nodes in 1:max_nodes){\n",
    "    cv_error<-crossval_nn(X.train, Y.train, n_folds=crossval_folds, size=nodes )\n",
    "    nn_es[1,nodes]<-mean(cv_error)\n",
    "    nn_es[2,nodes]<-sd(cv_error)\n",
    "    cv_error\n",
    "}"
   ]
  },
  {
   "cell_type": "code",
   "execution_count": 106,
   "metadata": {
    "collapsed": false,
    "scrolled": true
   },
   "outputs": [
    {
     "data": {
      "text/html": [
       "<table>\n",
       "<thead><tr><th scope=col>1</th><th scope=col>2</th><th scope=col>3</th><th scope=col>4</th><th scope=col>5</th><th scope=col>6</th><th scope=col>7</th><th scope=col>8</th><th scope=col>9</th><th scope=col>10</th><th scope=col>11</th><th scope=col>12</th><th scope=col>13</th><th scope=col>14</th><th scope=col>15</th></tr></thead>\n",
       "<tbody>\n",
       "\t<tr><td>0.30088854</td><td>0.28335493</td><td>0.27995834</td><td>0.27781949</td><td>0.26620732</td><td>0.26551784</td><td>0.26417695</td><td>0.2653624 </td><td>0.26156510</td><td>0.25855903</td><td>0.2579653 </td><td>0.26447974</td><td>0.25995129</td><td>0.25950025</td><td>0.2558104 </td></tr>\n",
       "\t<tr><td>0.02392192</td><td>0.01608414</td><td>0.01828814</td><td>0.02377481</td><td>0.02412014</td><td>0.01701351</td><td>0.02226098</td><td>0.0316822 </td><td>0.02611617</td><td>0.01709182</td><td>0.0248543 </td><td>0.02206732</td><td>0.02802188</td><td>0.02327709</td><td>0.0186765 </td></tr>\n",
       "</tbody>\n",
       "</table>\n"
      ],
      "text/latex": [
       "\\begin{tabular}{r|lllllllllllllll}\n",
       " 1 & 2 & 3 & 4 & 5 & 6 & 7 & 8 & 9 & 10 & 11 & 12 & 13 & 14 & 15\\\\\n",
       "\\hline\n",
       "\t 0.30088854 & 0.28335493 & 0.27995834 & 0.27781949 & 0.26620732 & 0.26551784 & 0.26417695 & 0.2653624  & 0.26156510 & 0.25855903 & 0.2579653  & 0.26447974 & 0.25995129 & 0.25950025 & 0.2558104 \\\\\n",
       "\t 0.02392192 & 0.01608414 & 0.01828814 & 0.02377481 & 0.02412014 & 0.01701351 & 0.02226098 & 0.0316822  & 0.02611617 & 0.01709182 & 0.0248543  & 0.02206732 & 0.02802188 & 0.02327709 & 0.0186765 \\\\\n",
       "\\end{tabular}\n"
      ],
      "text/markdown": [
       "\n",
       "1 | 2 | 3 | 4 | 5 | 6 | 7 | 8 | 9 | 10 | 11 | 12 | 13 | 14 | 15 | \n",
       "|---|---|\n",
       "| 0.30088854 | 0.28335493 | 0.27995834 | 0.27781949 | 0.26620732 | 0.26551784 | 0.26417695 | 0.2653624  | 0.26156510 | 0.25855903 | 0.2579653  | 0.26447974 | 0.25995129 | 0.25950025 | 0.2558104  | \n",
       "| 0.02392192 | 0.01608414 | 0.01828814 | 0.02377481 | 0.02412014 | 0.01701351 | 0.02226098 | 0.0316822  | 0.02611617 | 0.01709182 | 0.0248543  | 0.02206732 | 0.02802188 | 0.02327709 | 0.0186765  | \n",
       "\n",
       "\n"
      ],
      "text/plain": [
       "  1          2          3          4          5          6          7          8         9          10         11       \n",
       "1 0.30088854 0.28335493 0.27995834 0.27781949 0.26620732 0.26551784 0.26417695 0.2653624 0.26156510 0.25855903 0.2579653\n",
       "2 0.02392192 0.01608414 0.01828814 0.02377481 0.02412014 0.01701351 0.02226098 0.0316822 0.02611617 0.01709182 0.0248543\n",
       "  12         13         14         15       \n",
       "1 0.26447974 0.25995129 0.25950025 0.2558104\n",
       "2 0.02206732 0.02802188 0.02327709 0.0186765"
      ]
     },
     "metadata": {},
     "output_type": "display_data"
    },
    {
     "data": {
      "text/html": [
       "<table>\n",
       "<thead><tr><th scope=col>1</th><th scope=col>2</th><th scope=col>3</th><th scope=col>4</th><th scope=col>5</th><th scope=col>6</th><th scope=col>7</th><th scope=col>8</th><th scope=col>9</th><th scope=col>10</th><th scope=col>11</th><th scope=col>12</th><th scope=col>13</th><th scope=col>14</th><th scope=col>15</th></tr></thead>\n",
       "<tbody>\n",
       "\t<tr><td>0.26107333</td><td>0.2580198 </td><td>0.25088644</td><td>0.25146967</td><td>0.2507954 </td><td>0.25006486</td><td>0.24656633</td><td>0.25890094</td><td>0.25175903</td><td>0.25645020</td><td>0.25885693</td><td>0.25525156</td><td>0.24313384</td><td>0.25968965</td><td>0.2448537 </td></tr>\n",
       "\t<tr><td>0.02075322</td><td>0.0145448 </td><td>0.02461277</td><td>0.02478543</td><td>0.0205725 </td><td>0.02145665</td><td>0.01970367</td><td>0.02151471</td><td>0.01760236</td><td>0.02501768</td><td>0.02118087</td><td>0.02407142</td><td>0.01340983</td><td>0.03055254</td><td>0.0280942 </td></tr>\n",
       "</tbody>\n",
       "</table>\n"
      ],
      "text/latex": [
       "\\begin{tabular}{r|lllllllllllllll}\n",
       " 1 & 2 & 3 & 4 & 5 & 6 & 7 & 8 & 9 & 10 & 11 & 12 & 13 & 14 & 15\\\\\n",
       "\\hline\n",
       "\t 0.26107333 & 0.2580198  & 0.25088644 & 0.25146967 & 0.2507954  & 0.25006486 & 0.24656633 & 0.25890094 & 0.25175903 & 0.25645020 & 0.25885693 & 0.25525156 & 0.24313384 & 0.25968965 & 0.2448537 \\\\\n",
       "\t 0.02075322 & 0.0145448  & 0.02461277 & 0.02478543 & 0.0205725  & 0.02145665 & 0.01970367 & 0.02151471 & 0.01760236 & 0.02501768 & 0.02118087 & 0.02407142 & 0.01340983 & 0.03055254 & 0.0280942 \\\\\n",
       "\\end{tabular}\n"
      ],
      "text/markdown": [
       "\n",
       "1 | 2 | 3 | 4 | 5 | 6 | 7 | 8 | 9 | 10 | 11 | 12 | 13 | 14 | 15 | \n",
       "|---|---|\n",
       "| 0.26107333 | 0.2580198  | 0.25088644 | 0.25146967 | 0.2507954  | 0.25006486 | 0.24656633 | 0.25890094 | 0.25175903 | 0.25645020 | 0.25885693 | 0.25525156 | 0.24313384 | 0.25968965 | 0.2448537  | \n",
       "| 0.02075322 | 0.0145448  | 0.02461277 | 0.02478543 | 0.0205725  | 0.02145665 | 0.01970367 | 0.02151471 | 0.01760236 | 0.02501768 | 0.02118087 | 0.02407142 | 0.01340983 | 0.03055254 | 0.0280942  | \n",
       "\n",
       "\n"
      ],
      "text/plain": [
       "  1          2         3          4          5         6          7          8          9          10         11        \n",
       "1 0.26107333 0.2580198 0.25088644 0.25146967 0.2507954 0.25006486 0.24656633 0.25890094 0.25175903 0.25645020 0.25885693\n",
       "2 0.02075322 0.0145448 0.02461277 0.02478543 0.0205725 0.02145665 0.01970367 0.02151471 0.01760236 0.02501768 0.02118087\n",
       "  12         13         14         15       \n",
       "1 0.25525156 0.24313384 0.25968965 0.2448537\n",
       "2 0.02407142 0.01340983 0.03055254 0.0280942"
      ]
     },
     "metadata": {},
     "output_type": "display_data"
    },
    {
     "data": {
      "image/png": "[encoded data removed]",
      "text/plain": [
       "Plot with title \"NN Cross validation error\""
      ]
     },
     "metadata": {},
     "output_type": "display_data"
    }
   ],
   "source": [
    "\n",
    "xtable(nn_es[,1:15])\n",
    "xtable(nn_es[,16:30])\n",
    "plot(1:30, nn_es[1,], main=\"NN Cross validation error\", xlab=\"# nodes in hidden layer\", ylab=\"CV error\", type=\"l\")"
   ]
  },
  {
   "cell_type": "markdown",
   "metadata": {},
   "source": [
    "The best performing neural network seems to be the one with 25 nodes in the hidden layer, that is the same amount of hidden nodes as input nodes. We can also see that even the best neural network model performs worse than the other models. The standard deviation of the error is only slightly better than that of the linear model, which is not significan given the difference in mean. Note that this result ca vary when retraining the model."
   ]
  },
  {
   "cell_type": "markdown",
   "metadata": {},
   "source": [
    "The final neural network with 25 nodes in the hidden layer, trained on all data looks like this"
   ]
  },
  {
   "cell_type": "code",
   "execution_count": 122,
   "metadata": {
    "collapsed": false
   },
   "outputs": [
    {
     "name": "stderr",
     "output_type": "stream",
     "text": [
      "SHA-1 hash of file is 74c80bd5ddbc17ab3ae5ece9c0ed9beb612e87ef\n",
      "Loading required package: reshape\n",
      "Loading required package: reshape\n",
      "Loading required package: reshape\n",
      "Loading required package: reshape\n",
      "Loading required package: reshape\n",
      "Loading required package: reshape\n",
      "Loading required package: reshape\n",
      "Loading required package: reshape\n",
      "Loading required package: reshape\n",
      "Loading required package: reshape\n",
      "Loading required package: reshape\n",
      "Loading required package: reshape\n",
      "Loading required package: reshape\n",
      "Loading required package: reshape\n",
      "Loading required package: reshape\n",
      "Loading required package: reshape\n",
      "Loading required package: reshape\n",
      "Loading required package: reshape\n",
      "Loading required package: reshape\n",
      "Loading required package: reshape\n",
      "Loading required package: reshape\n",
      "Loading required package: reshape\n",
      "Loading required package: reshape\n",
      "Loading required package: reshape\n",
      "Loading required package: reshape\n",
      "Loading required package: reshape\n",
      "Loading required package: reshape\n",
      "Loading required package: reshape\n",
      "Loading required package: reshape\n",
      "Loading required package: reshape\n",
      "Loading required package: reshape\n",
      "Loading required package: reshape\n",
      "Loading required package: reshape\n",
      "Loading required package: reshape\n",
      "Loading required package: reshape\n",
      "Loading required package: reshape\n",
      "Loading required package: reshape\n",
      "Loading required package: reshape\n",
      "Loading required package: reshape\n",
      "Loading required package: reshape\n",
      "Loading required package: reshape\n",
      "Loading required package: reshape\n",
      "Loading required package: reshape\n",
      "Loading required package: reshape\n",
      "Loading required package: reshape\n",
      "Loading required package: reshape\n",
      "Loading required package: reshape\n",
      "Loading required package: reshape\n",
      "Loading required package: reshape\n",
      "Loading required package: reshape\n",
      "Loading required package: reshape\n",
      "Loading required package: reshape\n",
      "Loading required package: reshape\n",
      "Loading required package: reshape\n",
      "Loading required package: reshape\n",
      "Loading required package: reshape\n",
      "Loading required package: reshape\n"
     ]
    },
    {
     "data": {
      "image/png": "[encoded data removed]",
      "text/plain": [
       "plot without title"
      ]
     },
     "metadata": {},
     "output_type": "display_data"
    }
   ],
   "source": [
    "nnet_fit<-nnet(X.train, Y.train, size=25, maxit=1000, trace=FALSE, linout=TRUE)\n",
    "options(width=130)\n",
    "#import the plot function from Github\n",
    "library(devtools)\n",
    "source_url('https://gist.githubusercontent.com/fawda123/7471137/raw/466c1474d0a505ff044412703516c34f1a4684a5/nnet_plot_update.r')\n",
    "plot.nnet(nnet_fit, circle.cex=3, cex=0.9)"
   ]
  },
  {
   "cell_type": "markdown",
   "metadata": {},
   "source": [
    "Applying a winner-takes-all criterion, we conclude that the simple linear model is the best when using the 25 first principal components as features."
   ]
  },
  {
   "cell_type": "markdown",
   "metadata": {},
   "source": [
    "## Ensemble techniques"
   ]
  },
  {
   "cell_type": "markdown",
   "metadata": {},
   "source": [
    "For our ensemble technique we chose to implement the Stacked regression algorithm. It allows us to produce a linear combination of the model predictions with the following formula. \n",
    "$$ \\sum_{j=1}^m \\hat{\\beta_j} h_j(x)$$\n",
    "Where $\\hat{\\beta_j}$ are weights and $h_j(x)$ are single model predictions. To find the weights $\\hat{\\beta_j}$ we need to assess how well our estimators contribute to a prediction. For this purpose we perform a leave-one-out estimate for every sample with every model. This results in a dataset of estimates $h_j(x_i, \\alpha_N^{(-i)})$ \n",
    "for model $\\textit{j}$ on the $\\textit{i}$th training sample. If we now perform a least-squares regression on this data, we can obtain the parameters for each model   "
   ]
  },
  {
   "cell_type": "markdown",
   "metadata": {},
   "source": [
    "We start by computing the leave-one-out estimates for each of our three chosen models, the simple linear model, the tree that is not pruned, and a neural network with 25 nodes in the hidden layer."
   ]
  },
  {
   "cell_type": "code",
   "execution_count": 124,
   "metadata": {
    "collapsed": false
   },
   "outputs": [],
   "source": [
    "nn_estimates<-loo_estimates_nn(X.train,Y.train, size=25)\n",
    "pol_estimates<-loo_estimates_pol(X.train, Y.train)\n",
    "tree_estimates<-loo_estimates_tree(X.train,Y.train, prune=FALSE)"
   ]
  },
  {
   "cell_type": "markdown",
   "metadata": {},
   "source": [
    "This process is quite computationally intensive and takes some time to compute. However, now we can perform a linear regression to identify the best parameters for our ensemble estimator. We chose to perform ridge regression because the different model predictions are strongly correlated since they predict the same value."
   ]
  },
  {
   "cell_type": "code",
   "execution_count": 161,
   "metadata": {
    "collapsed": false,
    "scrolled": true
   },
   "outputs": [
    {
     "data": {
      "text/plain": [
       "                 nn_estimates  pol_estimates tree_estimates \n",
       " -6406.0188366      0.1007773      0.5133222      0.4207715 "
      ]
     },
     "metadata": {},
     "output_type": "display_data"
    }
   ],
   "source": [
    "library(MASS)\n",
    "params<-lm.ridge(Y.train~nn_estimates+pol_estimates+tree_estimates)\n",
    "params"
   ]
  },
  {
   "cell_type": "markdown",
   "metadata": {},
   "source": [
    "Unsurprisingly the neural network gets the least weight as it performed the worst on our data. The linear model accounts for more than 50% of the predicted value. This confirms our findings in the previous section again. We now cross-validate the ensemble model with the computed weights. "
   ]
  },
  {
   "cell_type": "code",
   "execution_count": 169,
   "metadata": {
    "collapsed": false
   },
   "outputs": [
    {
     "name": "stdout",
     "output_type": "stream",
     "text": [
      "[1] \"CV error:  0.168823851120033\"\n",
      "[1] \"Std Dev:  0.0227431088651212\"\n"
     ]
    }
   ],
   "source": [
    "#Weights: Linear, Tree, NN\n",
    "ensemble_weights<-c(0.5133222, 0.4207715, 0.1007773)\n",
    "ensemble_cv<-crossval_ensemble(X.train, Y.train, ensemble_weights, nn_size=25)\n",
    "print(paste(\"CV error: \", mean(ensemble_cv)))\n",
    "print(paste(\"Std Dev: \", sd(ensemble_cv)))"
   ]
  },
  {
   "cell_type": "markdown",
   "metadata": {},
   "source": [
    "This ensemble model results in a slight decrease of the cross-validation error. The standard deviation of this error is similar to that of the linear model. It seems to predict relatively consistently. We choose this as our final model. "
   ]
  },
  {
   "cell_type": "markdown",
   "metadata": {},
   "source": [
    "## Conclusion"
   ]
  },
  {
   "cell_type": "markdown",
   "metadata": {
    "collapsed": true
   },
   "source": [
    "To predict the sale price of houses according to a set of both numerical and categorical attributes we tested out several models. Before we could start training a model we had to preprocess our data to be able to work with categorical features. We chose to encode factor variables with a one-hot-encoding, but this resulted in way too many features to be able to train an accurate model with. To solve this we had to select only those features that are most relevant. "
   ]
  },
  {
   "cell_type": "markdown",
   "metadata": {},
   "source": [
    "As a feature selectuion procedure we performed principal component analysis. By selecting only the first components as to cummulatively account for 95% of the variance in our data. This significantly decreased the amount of features, but we still had more than 180 remaining features. Therefore we decided to cross-validate a linear model fitted with increasing amount of features to identify at which amount of principal comoponents there is no more ipmrovement in the cross-validation error and the standard deviation of this error. We decided to only use the 25 first principal components to train our model on."
   ]
  },
  {
   "cell_type": "markdown",
   "metadata": {},
   "source": [
    "We decided to take a winner-takes-all approach, based on the cross-validation error, to identify which of our chosen models performed the best. We tested three distict types of models. "
   ]
  },
  {
   "cell_type": "markdown",
   "metadata": {},
   "source": [
    "First we fitted and cross-validated a linear model with increasing polynomial degree. We came to the constatation that only the simple first degree function was a reliable predictor for our data. This is not surprising since we are working with principal components that are already a linear combination of the original features and are orthogonal and therefore uncorrelated."
   ]
  },
  {
   "cell_type": "markdown",
   "metadata": {},
   "source": [
    "The next model we fitted was a decision tree. The parametric identification procedure for this model simply consists of fitting a tree, pruning it and evaluating if the pruned tree can perform better. There was almost no difference between the pruned and non-pruned tree errors, the pruned tree even performed slightly worse. The decsion tree does not perform better than our previous linear model for cross-validation error, but does have a smaller standard devation. This does not matter however, as the linear model still performs better. The decision tree would probably have performed better had it not been trained on the principal components, or on a different set of principal components. The nature of decision trees would also have allowed us to work with the categorical variables without having to one-hot-encode them. A random forest approach would probably give us even better results, but there was regrettably no time left to implement this approach."
   ]
  },
  {
   "cell_type": "markdown",
   "metadata": {},
   "source": [
    "We also trained a neural network on our data. To find the ideal amount of nodes in the hidden layer of the network we trained several networks with increasing amount of nodes. We finally selected the network with the best cross-validation error, namely one with 25 nodes in it's hidden layer. This newtork however did not perform better than the other models. It actually performed worse in comparison with the tree model than the tree model compared to the linear model. This is probably due to the fact that we use principal components as features again. As there is no correlation between components and neural networks are a complex model. A different type of feature selection might be better suited for neural networks. The accuracy can probably also be improved by investigating different types of network architectures and activation functions. "
   ]
  },
  {
   "cell_type": "markdown",
   "metadata": {},
   "source": [
    "Finally we implemented an ensemble model. This model combines the predictions of the best variants for our three models. The predictions of the chosen models are linearily combined with each single prediction being multiplied by a chosen weight. To decide on the weight values for each model we performed stacked regression. This approach is however computationally expensive as it has to compute leave-one-out predictions for every model. It did however result in slightly better performance. It seems that even though the other models perform worse, they contibute positively to the final prediction quality of the ensemble model."
   ]
  },
  {
   "cell_type": "markdown",
   "metadata": {},
   "source": [
    "In conclusion we can say that performing PCA and fitting a linear model to our data performs relatively well. The other models we tested seem less suited, but could result in better performance with a different feature selection approach and more advanced optimizations. We will now present our predictions for the test data set."
   ]
  },
  {
   "cell_type": "markdown",
   "metadata": {
    "collapsed": true
   },
   "source": [
    "## Test set predictions"
   ]
  },
  {
   "cell_type": "code",
   "execution_count": 176,
   "metadata": {
    "collapsed": false
   },
   "outputs": [],
   "source": [
    "#Preprocess test data\n",
    "factor_variables<-which(sapply(data.test[1,],class)==\"factor\")\n",
    "data_preprocessed.test<-data.test[,-factor_variables]\n",
    "\n",
    "#Replace NA values with the variable mean\n",
    "data_preprocessed.test<-data.frame(apply(data_preprocessed.test,2,replace_na_with_mean_value))\n",
    "\n",
    "#Add categorical variables again with one-hot-encoding\n",
    "data_factor.test<-data.test[,factor_variables]\n",
    "data_factor_onehot.test <- dummy.data.frame(data_factor.test)\n",
    "\n",
    "data_preprocessed.test<-cbind(data_preprocessed.test, data_factor_onehot.test)\n",
    "\n",
    "#Transform test data to principal comoponents\n",
    "test_pca <- data.frame(prcomp(data_preprocessed.test, retx=T, scale=T)$x[,1:full_variance])\n",
    "final_data<-cbind(X.train, sale_price=Y.train)\n",
    "#Fit models\n",
    "tree<-rpart(sale_price~., method=\"anova\", data=final_data)\n",
    "linear<-lm(sale_price~., final_data)\n",
    "nn<-nnet(X.train, Y.train, size=25, maxit=1000, trace=FALSE, linout=TRUE)\n",
    "#predict\n",
    "predictions<-ensemble_weights[1]*predict(linear, test_pca) + ensemble_weights[2]*predict(tree, test_pca) + ensemble_weights[3]*predict(nn, test_pca)\n"
   ]
  },
  {
   "cell_type": "code",
   "execution_count": 190,
   "metadata": {
    "collapsed": false
   },
   "outputs": [],
   "source": [
    "format_pred<-data.frame(predictions)\n",
    "names(format_pred)[names(format_pred)==\"predictions\"] <- \"SalePrice\"\n",
    "format_pred<-cbind(Id=1461:2919, format_pred)\n",
    "write.csv(format_pred, file=\"./data/Predictions.csv\", row.names=FALSE)"
   ]
  },
  {
   "cell_type": "code",
   "execution_count": 194,
   "metadata": {
    "collapsed": false
   },
   "outputs": [
    {
     "data": {
      "text/html": [
       "<table>\n",
       "<thead><tr><th scope=col>Id</th><th scope=col>SalePrice</th></tr></thead>\n",
       "<tbody>\n",
       "\t<tr><td>1461      </td><td>228963.245</td></tr>\n",
       "\t<tr><td>1462      </td><td>175392.846</td></tr>\n",
       "\t<tr><td>1463      </td><td>172543.702</td></tr>\n",
       "\t<tr><td>1464      </td><td>139642.929</td></tr>\n",
       "\t<tr><td>1465      </td><td>142575.303</td></tr>\n",
       "\t<tr><td>1466      </td><td>190413.486</td></tr>\n",
       "\t<tr><td>1467      </td><td>185295.314</td></tr>\n",
       "\t<tr><td>1468      </td><td>179256.499</td></tr>\n",
       "\t<tr><td>1469      </td><td>149757.816</td></tr>\n",
       "\t<tr><td>1470      </td><td>222983.219</td></tr>\n",
       "\t<tr><td>1471      </td><td>172150.921</td></tr>\n",
       "\t<tr><td>1472      </td><td>293600.328</td></tr>\n",
       "\t<tr><td>1473      </td><td>290775.143</td></tr>\n",
       "\t<tr><td>1474      </td><td>279048.968</td></tr>\n",
       "\t<tr><td>1475      </td><td>284448.064</td></tr>\n",
       "\t<tr><td>1476      </td><td> 70796.592</td></tr>\n",
       "\t<tr><td>1477      </td><td>106013.861</td></tr>\n",
       "\t<tr><td>1478      </td><td> 74583.158</td></tr>\n",
       "\t<tr><td>1479      </td><td> 74993.098</td></tr>\n",
       "\t<tr><td>1480      </td><td>  8044.167</td></tr>\n",
       "\t<tr><td>1481      </td><td> 83030.246</td></tr>\n",
       "\t<tr><td>1482      </td><td>110380.618</td></tr>\n",
       "\t<tr><td>1483      </td><td>140028.293</td></tr>\n",
       "\t<tr><td>1484      </td><td>170396.125</td></tr>\n",
       "\t<tr><td>1485      </td><td>160364.386</td></tr>\n",
       "\t<tr><td>1486      </td><td>166533.293</td></tr>\n",
       "\t<tr><td>1487      </td><td> 92485.140</td></tr>\n",
       "\t<tr><td>1488      </td><td>133952.331</td></tr>\n",
       "\t<tr><td>1489      </td><td>149808.907</td></tr>\n",
       "\t<tr><td>1490      </td><td>123219.579</td></tr>\n",
       "\t<tr><td>...</td><td>...</td></tr>\n",
       "\t<tr><td>2890     </td><td>265019.35</td></tr>\n",
       "\t<tr><td>2891     </td><td>212186.67</td></tr>\n",
       "\t<tr><td>2892     </td><td>443914.62</td></tr>\n",
       "\t<tr><td>2893     </td><td>428798.60</td></tr>\n",
       "\t<tr><td>2894     </td><td>416492.73</td></tr>\n",
       "\t<tr><td>2895     </td><td> 44449.44</td></tr>\n",
       "\t<tr><td>2896     </td><td> 56845.31</td></tr>\n",
       "\t<tr><td>2897     </td><td>133910.77</td></tr>\n",
       "\t<tr><td>2898     </td><td>219876.06</td></tr>\n",
       "\t<tr><td>2899     </td><td>134395.39</td></tr>\n",
       "\t<tr><td>2900     </td><td>198940.89</td></tr>\n",
       "\t<tr><td>2901     </td><td>125555.98</td></tr>\n",
       "\t<tr><td>2902     </td><td>156002.60</td></tr>\n",
       "\t<tr><td>2903     </td><td> 76621.98</td></tr>\n",
       "\t<tr><td>2904     </td><td> 61454.04</td></tr>\n",
       "\t<tr><td>2905     </td><td>356817.88</td></tr>\n",
       "\t<tr><td>2906     </td><td>152104.06</td></tr>\n",
       "\t<tr><td>2907     </td><td>251088.05</td></tr>\n",
       "\t<tr><td>2908     </td><td>213885.58</td></tr>\n",
       "\t<tr><td>2909     </td><td>213944.06</td></tr>\n",
       "\t<tr><td>2910     </td><td>310587.93</td></tr>\n",
       "\t<tr><td>2911     </td><td>273802.94</td></tr>\n",
       "\t<tr><td>2912     </td><td>185285.09</td></tr>\n",
       "\t<tr><td>2913     </td><td>287445.55</td></tr>\n",
       "\t<tr><td>2914     </td><td>322115.21</td></tr>\n",
       "\t<tr><td>2915     </td><td>320172.66</td></tr>\n",
       "\t<tr><td>2916     </td><td>279636.24</td></tr>\n",
       "\t<tr><td>2917     </td><td>188263.91</td></tr>\n",
       "\t<tr><td>2918     </td><td>257624.07</td></tr>\n",
       "\t<tr><td>2919     </td><td>136814.48</td></tr>\n",
       "</tbody>\n",
       "</table>\n"
      ],
      "text/latex": [
       "\\begin{tabular}{r|ll}\n",
       " Id & SalePrice\\\\\n",
       "\\hline\n",
       "\t 1461       & 228963.245\\\\\n",
       "\t 1462       & 175392.846\\\\\n",
       "\t 1463       & 172543.702\\\\\n",
       "\t 1464       & 139642.929\\\\\n",
       "\t 1465       & 142575.303\\\\\n",
       "\t 1466       & 190413.486\\\\\n",
       "\t 1467       & 185295.314\\\\\n",
       "\t 1468       & 179256.499\\\\\n",
       "\t 1469       & 149757.816\\\\\n",
       "\t 1470       & 222983.219\\\\\n",
       "\t 1471       & 172150.921\\\\\n",
       "\t 1472       & 293600.328\\\\\n",
       "\t 1473       & 290775.143\\\\\n",
       "\t 1474       & 279048.968\\\\\n",
       "\t 1475       & 284448.064\\\\\n",
       "\t 1476       &  70796.592\\\\\n",
       "\t 1477       & 106013.861\\\\\n",
       "\t 1478       &  74583.158\\\\\n",
       "\t 1479       &  74993.098\\\\\n",
       "\t 1480       &   8044.167\\\\\n",
       "\t 1481       &  83030.246\\\\\n",
       "\t 1482       & 110380.618\\\\\n",
       "\t 1483       & 140028.293\\\\\n",
       "\t 1484       & 170396.125\\\\\n",
       "\t 1485       & 160364.386\\\\\n",
       "\t 1486       & 166533.293\\\\\n",
       "\t 1487       &  92485.140\\\\\n",
       "\t 1488       & 133952.331\\\\\n",
       "\t 1489       & 149808.907\\\\\n",
       "\t 1490       & 123219.579\\\\\n",
       "\t ... & ...\\\\\n",
       "\t 2890      & 265019.35\\\\\n",
       "\t 2891      & 212186.67\\\\\n",
       "\t 2892      & 443914.62\\\\\n",
       "\t 2893      & 428798.60\\\\\n",
       "\t 2894      & 416492.73\\\\\n",
       "\t 2895      &  44449.44\\\\\n",
       "\t 2896      &  56845.31\\\\\n",
       "\t 2897      & 133910.77\\\\\n",
       "\t 2898      & 219876.06\\\\\n",
       "\t 2899      & 134395.39\\\\\n",
       "\t 2900      & 198940.89\\\\\n",
       "\t 2901      & 125555.98\\\\\n",
       "\t 2902      & 156002.60\\\\\n",
       "\t 2903      &  76621.98\\\\\n",
       "\t 2904      &  61454.04\\\\\n",
       "\t 2905      & 356817.88\\\\\n",
       "\t 2906      & 152104.06\\\\\n",
       "\t 2907      & 251088.05\\\\\n",
       "\t 2908      & 213885.58\\\\\n",
       "\t 2909      & 213944.06\\\\\n",
       "\t 2910      & 310587.93\\\\\n",
       "\t 2911      & 273802.94\\\\\n",
       "\t 2912      & 185285.09\\\\\n",
       "\t 2913      & 287445.55\\\\\n",
       "\t 2914      & 322115.21\\\\\n",
       "\t 2915      & 320172.66\\\\\n",
       "\t 2916      & 279636.24\\\\\n",
       "\t 2917      & 188263.91\\\\\n",
       "\t 2918      & 257624.07\\\\\n",
       "\t 2919      & 136814.48\\\\\n",
       "\\end{tabular}\n"
      ],
      "text/markdown": [
       "\n",
       "Id | SalePrice | \n",
       "|---|---|---|---|---|---|---|---|---|---|---|---|---|---|---|---|---|---|---|---|---|---|---|---|---|---|---|---|---|---|---|---|---|---|---|---|---|---|---|---|---|---|---|---|---|---|---|---|---|---|---|---|---|---|---|---|---|---|---|---|---|\n",
       "| 1461       | 228963.245 | \n",
       "| 1462       | 175392.846 | \n",
       "| 1463       | 172543.702 | \n",
       "| 1464       | 139642.929 | \n",
       "| 1465       | 142575.303 | \n",
       "| 1466       | 190413.486 | \n",
       "| 1467       | 185295.314 | \n",
       "| 1468       | 179256.499 | \n",
       "| 1469       | 149757.816 | \n",
       "| 1470       | 222983.219 | \n",
       "| 1471       | 172150.921 | \n",
       "| 1472       | 293600.328 | \n",
       "| 1473       | 290775.143 | \n",
       "| 1474       | 279048.968 | \n",
       "| 1475       | 284448.064 | \n",
       "| 1476       |  70796.592 | \n",
       "| 1477       | 106013.861 | \n",
       "| 1478       |  74583.158 | \n",
       "| 1479       |  74993.098 | \n",
       "| 1480       |   8044.167 | \n",
       "| 1481       |  83030.246 | \n",
       "| 1482       | 110380.618 | \n",
       "| 1483       | 140028.293 | \n",
       "| 1484       | 170396.125 | \n",
       "| 1485       | 160364.386 | \n",
       "| 1486       | 166533.293 | \n",
       "| 1487       |  92485.140 | \n",
       "| 1488       | 133952.331 | \n",
       "| 1489       | 149808.907 | \n",
       "| 1490       | 123219.579 | \n",
       "| ... | ... | \n",
       "| 2890      | 265019.35 | \n",
       "| 2891      | 212186.67 | \n",
       "| 2892      | 443914.62 | \n",
       "| 2893      | 428798.60 | \n",
       "| 2894      | 416492.73 | \n",
       "| 2895      |  44449.44 | \n",
       "| 2896      |  56845.31 | \n",
       "| 2897      | 133910.77 | \n",
       "| 2898      | 219876.06 | \n",
       "| 2899      | 134395.39 | \n",
       "| 2900      | 198940.89 | \n",
       "| 2901      | 125555.98 | \n",
       "| 2902      | 156002.60 | \n",
       "| 2903      |  76621.98 | \n",
       "| 2904      |  61454.04 | \n",
       "| 2905      | 356817.88 | \n",
       "| 2906      | 152104.06 | \n",
       "| 2907      | 251088.05 | \n",
       "| 2908      | 213885.58 | \n",
       "| 2909      | 213944.06 | \n",
       "| 2910      | 310587.93 | \n",
       "| 2911      | 273802.94 | \n",
       "| 2912      | 185285.09 | \n",
       "| 2913      | 287445.55 | \n",
       "| 2914      | 322115.21 | \n",
       "| 2915      | 320172.66 | \n",
       "| 2916      | 279636.24 | \n",
       "| 2917      | 188263.91 | \n",
       "| 2918      | 257624.07 | \n",
       "| 2919      | 136814.48 | \n",
       "\n",
       "\n"
      ],
      "text/plain": [
       "     Id   SalePrice \n",
       "1    1461 228963.245\n",
       "2    1462 175392.846\n",
       "3    1463 172543.702\n",
       "4    1464 139642.929\n",
       "5    1465 142575.303\n",
       "6    1466 190413.486\n",
       "7    1467 185295.314\n",
       "8    1468 179256.499\n",
       "9    1469 149757.816\n",
       "10   1470 222983.219\n",
       "11   1471 172150.921\n",
       "12   1472 293600.328\n",
       "13   1473 290775.143\n",
       "14   1474 279048.968\n",
       "15   1475 284448.064\n",
       "16   1476  70796.592\n",
       "17   1477 106013.861\n",
       "18   1478  74583.158\n",
       "19   1479  74993.098\n",
       "20   1480   8044.167\n",
       "21   1481  83030.246\n",
       "22   1482 110380.618\n",
       "23   1483 140028.293\n",
       "24   1484 170396.125\n",
       "25   1485 160364.386\n",
       "26   1486 166533.293\n",
       "27   1487  92485.140\n",
       "28   1488 133952.331\n",
       "29   1489 149808.907\n",
       "30   1490 123219.579\n",
       "...  ...  ...       \n",
       "1430 2890 265019.35 \n",
       "1431 2891 212186.67 \n",
       "1432 2892 443914.62 \n",
       "1433 2893 428798.60 \n",
       "1434 2894 416492.73 \n",
       "1435 2895  44449.44 \n",
       "1436 2896  56845.31 \n",
       "1437 2897 133910.77 \n",
       "1438 2898 219876.06 \n",
       "1439 2899 134395.39 \n",
       "1440 2900 198940.89 \n",
       "1441 2901 125555.98 \n",
       "1442 2902 156002.60 \n",
       "1443 2903  76621.98 \n",
       "1444 2904  61454.04 \n",
       "1445 2905 356817.88 \n",
       "1446 2906 152104.06 \n",
       "1447 2907 251088.05 \n",
       "1448 2908 213885.58 \n",
       "1449 2909 213944.06 \n",
       "1450 2910 310587.93 \n",
       "1451 2911 273802.94 \n",
       "1452 2912 185285.09 \n",
       "1453 2913 287445.55 \n",
       "1454 2914 322115.21 \n",
       "1455 2915 320172.66 \n",
       "1456 2916 279636.24 \n",
       "1457 2917 188263.91 \n",
       "1458 2918 257624.07 \n",
       "1459 2919 136814.48 "
      ]
     },
     "metadata": {},
     "output_type": "display_data"
    }
   ],
   "source": [
    "format_pred"
   ]
  },
  {
   "cell_type": "code",
   "execution_count": null,
   "metadata": {
    "collapsed": true
   },
   "outputs": [],
   "source": []
  }
 ],
 "metadata": {
  "anaconda-cloud": {},
  "kernelspec": {
   "display_name": "R",
   "language": "R",
   "name": "ir"
  },
  "language_info": {
   "codemirror_mode": "r",
   "file_extension": ".r",
   "mimetype": "text/x-r-source",
   "name": "R",
   "pygments_lexer": "r",
   "version": "3.3.2"
  }
 },
 "nbformat": 4,
 "nbformat_minor": 1
}
